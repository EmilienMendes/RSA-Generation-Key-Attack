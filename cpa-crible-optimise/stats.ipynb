{
 "cells": [
  {
   "cell_type": "code",
   "execution_count": 2,
   "metadata": {},
   "outputs": [],
   "source": [
    "def tri_liste(liste1,liste2) :\n",
    "    indices_trie = sorted(range(len(liste1)), key=lambda i: liste1[i])\n",
    "\n",
    "    liste1_triee = [liste1[i] for i in indices_trie]\n",
    "    liste2_triee = [liste2[i] for i in indices_trie]\n",
    "    return liste1_triee,liste2_triee"
   ]
  },
  {
   "cell_type": "code",
   "execution_count": 3,
   "metadata": {},
   "outputs": [],
   "source": [
    "with open(\"stats2\",'r') as fichier :\n",
    "    lignes = fichier.readlines()"
   ]
  },
  {
   "cell_type": "code",
   "execution_count": 4,
   "metadata": {},
   "outputs": [],
   "source": [
    "liste1 = [int(element.split()[0]) for element in lignes[:1000]]\n",
    "liste2 = [int(element.split()[1]) for element in lignes[:1000]]\n",
    "liste_n_bruit_0,liste_succes_bruit_0 = tri_liste(liste1,liste2)\n",
    "\n",
    "liste1 = [int(element.split()[0]) for element in lignes[1000:2000]]\n",
    "liste2 = [int(element.split()[1]) for element in lignes[1000:2000]]\n",
    "liste_n_bruit_1,liste_succes_bruit_1 = tri_liste(liste1,liste2)\n",
    "\n",
    "\n",
    "liste1 = [int(element.split()[0]) for element in lignes[2000:3000]]\n",
    "liste2 = [int(element.split()[1]) for element in lignes[2000:3000]]\n",
    "liste_n_bruit_2,liste_succes_bruit_2 = tri_liste(liste1,liste2)\n",
    "\n",
    "liste1 = [int(element.split()[0]) for element in lignes[3000:]]\n",
    "liste2= [int(element.split()[1]) for element in lignes[3000:]]\n",
    "liste_n_bruit_3,liste_succes_bruit_3 = tri_liste(liste1,liste2)\n"
   ]
  },
  {
   "cell_type": "code",
   "execution_count": 5,
   "metadata": {},
   "outputs": [],
   "source": [
    "import numpy as np"
   ]
  },
  {
   "cell_type": "code",
   "execution_count": 6,
   "metadata": {},
   "outputs": [],
   "source": [
    "def trouver_quartile(data) :\n",
    "    Q1 = np.percentile(data, 25)  \n",
    "    Q2 = np.percentile(data, 50) \n",
    "    Q3 = np.percentile(data, 75) \n",
    "    return int(Q1),int(Q2),int(Q3)\n",
    "\n",
    "def pourcentage_succes(donnes,donnes_succes,quartile) :\n",
    "    succes = 0\n",
    "    nb_element = 0\n",
    "    for i in range(1000) :\n",
    "        if donnes[i] < quartile :\n",
    "            succes+=donnes_succes[i]\n",
    "            nb_element+=1\n",
    "    return succes/nb_element"
   ]
  },
  {
   "cell_type": "code",
   "execution_count": 18,
   "metadata": {},
   "outputs": [
    {
     "name": "stdout",
     "output_type": "stream",
     "text": [
      "50 115 233\n",
      "0.2971887550200803 0.6492985971943888 0.7657295850066934 0.825\n"
     ]
    }
   ],
   "source": [
    "Q1_0,Q2_0,Q3_0 = trouver_quartile(liste_n_bruit_0)\n",
    "succes_q1_bruit_0 = pourcentage_succes(liste_n_bruit_0,liste_succes_bruit_0,Q1_0)\n",
    "succes_q2_bruit_0 = pourcentage_succes(liste_n_bruit_0,liste_succes_bruit_0,Q2_0)\n",
    "succes_q3_bruit_0 = pourcentage_succes(liste_n_bruit_0,liste_succes_bruit_0,Q3_0)\n",
    "succes_global_bruit_0 = pourcentage_succes(liste_n_bruit_0,liste_succes_bruit_0,999999)\n",
    "print(Q1_0,Q2_0,Q3_0)\n",
    "print(succes_q1_bruit_0,succes_q2_bruit_0,succes_q3_bruit_0,succes_global_bruit_0)"
   ]
  },
  {
   "cell_type": "code",
   "execution_count": 8,
   "metadata": {},
   "outputs": [
    {
     "name": "stdout",
     "output_type": "stream",
     "text": [
      "51 115 244\n",
      "0.028112449799196786 0.4314516129032258 0.6216577540106952 0.717\n"
     ]
    }
   ],
   "source": [
    "Q1,Q2,Q3 = trouver_quartile(liste_n_bruit_1)\n",
    "succes_q1_bruit_1 = pourcentage_succes(liste_n_bruit_1,liste_succes_bruit_1,Q1)\n",
    "succes_q2_bruit_1 = pourcentage_succes(liste_n_bruit_1,liste_succes_bruit_1,Q2)\n",
    "succes_q3_bruit_1 = pourcentage_succes(liste_n_bruit_1,liste_succes_bruit_1,Q3)\n",
    "succes_global_bruit_1 = pourcentage_succes(liste_n_bruit_1,liste_succes_bruit_1,999999)\n",
    "print(Q1,Q2,Q3)\n",
    "print(succes_q1_bruit_1,succes_q2_bruit_1,succes_q3_bruit_1,succes_global_bruit_1)"
   ]
  },
  {
   "cell_type": "code",
   "execution_count": 9,
   "metadata": {},
   "outputs": [
    {
     "name": "stdout",
     "output_type": "stream",
     "text": [
      "47 128 249\n",
      "0.004016064257028112 0.11244979919678715 0.3906040268456376 0.546\n"
     ]
    }
   ],
   "source": [
    "Q1,Q2,Q3 = trouver_quartile(liste_n_bruit_2)\n",
    "succes_q1_bruit_2 = pourcentage_succes(liste_n_bruit_2,liste_succes_bruit_2,Q1)\n",
    "succes_q2_bruit_2 = pourcentage_succes(liste_n_bruit_2,liste_succes_bruit_2,Q2)\n",
    "succes_q3_bruit_2 = pourcentage_succes(liste_n_bruit_2,liste_succes_bruit_2,Q3)\n",
    "succes_global_bruit_2= pourcentage_succes(liste_n_bruit_2,liste_succes_bruit_2,999999)\n",
    "print(Q1,Q2,Q3)\n",
    "print(succes_q1_bruit_2,succes_q2_bruit_2,succes_q3_bruit_2,succes_global_bruit_2)"
   ]
  },
  {
   "cell_type": "code",
   "execution_count": 10,
   "metadata": {},
   "outputs": [
    {
     "name": "stdout",
     "output_type": "stream",
     "text": [
      "50 127 245\n",
      "0.0 0.0 0.10252996005326231 0.309\n"
     ]
    }
   ],
   "source": [
    "Q1,Q2,Q3 = trouver_quartile(liste_n_bruit_3)\n",
    "succes_q1_bruit_3 = pourcentage_succes(liste_n_bruit_3,liste_succes_bruit_3,Q1)\n",
    "succes_q2_bruit_3 = pourcentage_succes(liste_n_bruit_3,liste_succes_bruit_3,Q2)\n",
    "succes_q3_bruit_3 = pourcentage_succes(liste_n_bruit_3,liste_succes_bruit_3,Q3)\n",
    "succes_global_bruit_3 = pourcentage_succes(liste_n_bruit_3,liste_succes_bruit_3,999999)\n",
    "print(Q1,Q2,Q3)\n",
    "print(succes_q1_bruit_3,succes_q2_bruit_3,succes_q3_bruit_3,succes_global_bruit_3)"
   ]
  },
  {
   "cell_type": "code",
   "execution_count": 11,
   "metadata": {},
   "outputs": [],
   "source": [
    "import pandas as pd"
   ]
  },
  {
   "cell_type": "code",
   "execution_count": 12,
   "metadata": {},
   "outputs": [
    {
     "data": {
      "text/html": [
       "<div>\n",
       "<style scoped>\n",
       "    .dataframe tbody tr th:only-of-type {\n",
       "        vertical-align: middle;\n",
       "    }\n",
       "\n",
       "    .dataframe tbody tr th {\n",
       "        vertical-align: top;\n",
       "    }\n",
       "\n",
       "    .dataframe thead th {\n",
       "        text-align: right;\n",
       "    }\n",
       "</style>\n",
       "<table border=\"1\" class=\"dataframe\">\n",
       "  <thead>\n",
       "    <tr style=\"text-align: right;\">\n",
       "      <th></th>\n",
       "      <th>Q1</th>\n",
       "      <th>Q2</th>\n",
       "      <th>Q3</th>\n",
       "    </tr>\n",
       "    <tr>\n",
       "      <th>σ</th>\n",
       "      <th></th>\n",
       "      <th></th>\n",
       "      <th></th>\n",
       "    </tr>\n",
       "  </thead>\n",
       "  <tbody>\n",
       "    <tr>\n",
       "      <th>0</th>\n",
       "      <td>0.30</td>\n",
       "      <td>0.65</td>\n",
       "      <td>0.77</td>\n",
       "    </tr>\n",
       "    <tr>\n",
       "      <th>1</th>\n",
       "      <td>0.03</td>\n",
       "      <td>0.43</td>\n",
       "      <td>0.62</td>\n",
       "    </tr>\n",
       "    <tr>\n",
       "      <th>2</th>\n",
       "      <td>0.03</td>\n",
       "      <td>0.11</td>\n",
       "      <td>0.39</td>\n",
       "    </tr>\n",
       "    <tr>\n",
       "      <th>3</th>\n",
       "      <td>0.00</td>\n",
       "      <td>0.00</td>\n",
       "      <td>0.10</td>\n",
       "    </tr>\n",
       "  </tbody>\n",
       "</table>\n",
       "</div>"
      ],
      "text/plain": [
       "     Q1    Q2    Q3\n",
       "σ                  \n",
       "0  0.30  0.65  0.77\n",
       "1  0.03  0.43  0.62\n",
       "2  0.03  0.11  0.39\n",
       "3  0.00  0.00  0.10"
      ]
     },
     "execution_count": 12,
     "metadata": {},
     "output_type": "execute_result"
    }
   ],
   "source": [
    "tableau = pd.DataFrame({\n",
    "    'Q1': [succes_q1_bruit_0,succes_q1_bruit_1,succes_q1_bruit_1,succes_q1_bruit_2],\n",
    "    'Q2': [succes_q2_bruit_0,succes_q2_bruit_1,succes_q2_bruit_2,succes_q2_bruit_3],\n",
    "    'Q3': [succes_q3_bruit_0,succes_q3_bruit_1,succes_q3_bruit_2,succes_q3_bruit_3]\n",
    "},[i for i in range(4)]).round(2)\n",
    "tableau.index.name = \"σ\"\n",
    "tableau"
   ]
  },
  {
   "cell_type": "code",
   "execution_count": 13,
   "metadata": {},
   "outputs": [],
   "source": [
    "import matplotlib.pyplot as plt"
   ]
  },
  {
   "cell_type": "code",
   "execution_count": 53,
   "metadata": {},
   "outputs": [],
   "source": [
    "def probabilite(valeur,liste) :\n",
    "    nb_valeur = 0\n",
    "    for i in range (len(liste)) :\n",
    "        if(valeur <= liste[i]) :\n",
    "            nb_valeur+=1\n",
    "    return nb_valeur/len(liste) * 100"
   ]
  },
  {
   "cell_type": "code",
   "execution_count": 54,
   "metadata": {},
   "outputs": [
    {
     "data": {
      "text/plain": [
       "[<matplotlib.lines.Line2D at 0x7ff2212fdac0>]"
      ]
     },
     "execution_count": 54,
     "metadata": {},
     "output_type": "execute_result"
    },
    {
     "data": {
      "image/png": "[encoded data removed]",
      "text/plain": [
       "<Figure size 640x480 with 1 Axes>"
      ]
     },
     "metadata": {},
     "output_type": "display_data"
    }
   ],
   "source": [
    "pas = 20\n",
    "x = [i*pas for i in range (int(2500/pas))]\n",
    "y = [probabilite(element,liste_n_bruit_0) for element in x]\n",
    "plt.xlabel(\"Nombre d'itterations\")\n",
    "\n",
    "plt.plot(x,y,marker=\"x\")"
   ]
  },
  {
   "cell_type": "code",
   "execution_count": 14,
   "metadata": {},
   "outputs": [],
   "source": [
    "with open(\"stats\",'r') as fichier :\n",
    "    lignes2 = fichier.readlines()"
   ]
  },
  {
   "cell_type": "code",
   "execution_count": 56,
   "metadata": {},
   "outputs": [],
   "source": [
    "x = [float(element.split()[0]) for element in lignes2]\n",
    "y = [float(element.split()[1]) for element in lignes2]"
   ]
  },
  {
   "cell_type": "code",
   "execution_count": 58,
   "metadata": {},
   "outputs": [
    {
     "data": {
      "text/plain": [
       "[<matplotlib.lines.Line2D at 0x7ff2211dae20>]"
      ]
     },
     "execution_count": 58,
     "metadata": {},
     "output_type": "execute_result"
    },
    {
     "data": {
      "image/png": "[encoded data removed]",
      "text/plain": [
       "<Figure size 640x480 with 1 Axes>"
      ]
     },
     "metadata": {},
     "output_type": "display_data"
    }
   ],
   "source": [
    "plt.title(\"Efficacité de l'algorithme en fonction du bruit\")\n",
    "plt.xlabel(\"Bruit\")\n",
    "plt.ylabel(\"Taux de succès (1000 test)\")\n",
    "plt.plot(x,y,marker=\"o\")"
   ]
  }
 ],
 "metadata": {
  "kernelspec": {
   "display_name": "cw",
   "language": "python",
   "name": "python3"
  },
  "language_info": {
   "codemirror_mode": {
    "name": "ipython",
    "version": 3
   },
   "file_extension": ".py",
   "mimetype": "text/x-python",
   "name": "python",
   "nbconvert_exporter": "python",
   "pygments_lexer": "ipython3",
   "version": "3.9.5"
  }
 },
 "nbformat": 4,
 "nbformat_minor": 2
}
