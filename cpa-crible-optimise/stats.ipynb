{
 "cells": [
  {
   "cell_type": "code",
   "execution_count": 2,
   "metadata": {},
   "outputs": [],
   "source": [
    "def tri_liste(liste1,liste2) :\n",
    "    indices_trie = sorted(range(len(liste1)), key=lambda i: liste1[i])\n",
    "\n",
    "    liste1_triee = [liste1[i] for i in indices_trie]\n",
    "    liste2_triee = [liste2[i] for i in indices_trie]\n",
    "    return liste1_triee,liste2_triee"
   ]
  },
  {
   "cell_type": "code",
   "execution_count": 3,
   "metadata": {},
   "outputs": [],
   "source": [
    "with open(\"stats2\",'r') as fichier :\n",
    "    lignes = fichier.readlines()\n"
   ]
  },
  {
   "cell_type": "code",
   "execution_count": 37,
   "metadata": {},
   "outputs": [],
   "source": [
    "liste1 = [int(element.split()[0]) for element in lignes[:1000]]\n",
    "liste2 = [int(element.split()[1]) for element in lignes[:1000]]\n",
    "liste_n_bruit_0,liste_succes_bruit_0 = tri_liste(liste1,liste2)\n",
    "\n",
    "liste1 = [int(element.split()[0]) for element in lignes[1000:2000]]\n",
    "liste2 = [int(element.split()[1]) for element in lignes[1000:2000]]\n",
    "liste_n_bruit_1,liste_succes_bruit_1 = tri_liste(liste1,liste2)\n",
    "\n",
    "\n",
    "liste1 = [int(element.split()[0]) for element in lignes[2000:3000]]\n",
    "liste2 = [int(element.split()[1]) for element in lignes[2000:3000]]\n",
    "liste_n_bruit_2,liste_succes_bruit_2 = tri_liste(liste1,liste2)\n",
    "\n",
    "liste1 = [int(element.split()[0]) for element in lignes[3000:]]\n",
    "liste2= [int(element.split()[1]) for element in lignes[3000:]]\n",
    "liste_n_bruit_3,liste_succes_bruit_3 = tri_liste(liste1,liste2)\n"
   ]
  },
  {
   "cell_type": "code",
   "execution_count": 5,
   "metadata": {},
   "outputs": [],
   "source": [
    "import numpy as np"
   ]
  },
  {
   "cell_type": "code",
   "execution_count": 32,
   "metadata": {},
   "outputs": [],
   "source": [
    "def trouver_quartile(data) :\n",
    "    Q1 = np.percentile(data, 25)  \n",
    "    Q2 = np.percentile(data, 50) \n",
    "    Q3 = np.percentile(data, 75) \n",
    "    return int(Q1),int(Q2),int(Q3)\n",
    "\n",
    "def pourcentage_succes(donnes,donnes_succes,quartile) :\n",
    "    succes = 0\n",
    "    nb_element = 0\n",
    "    for i in range(1000) :\n",
    "        if donnes[i] < quartile :\n",
    "            succes+=donnes_succes[i]\n",
    "            nb_element+=1\n",
    "    return succes/nb_element"
   ]
  },
  {
   "cell_type": "code",
   "execution_count": 33,
   "metadata": {},
   "outputs": [
    {
     "name": "stdout",
     "output_type": "stream",
     "text": [
      "50 115 233\n",
      "0.2971887550200803 0.6492985971943888 0.7657295850066934 0.825\n"
     ]
    }
   ],
   "source": [
    "Q1,Q2,Q3 = trouver_quartile(liste_n_bruit_0)\n",
    "succes_q1_bruit_0 = pourcentage_succes(liste_n_bruit_0,liste_succes_bruit_0,Q1)\n",
    "succes_q2_bruit_0 = pourcentage_succes(liste_n_bruit_0,liste_succes_bruit_0,Q2)\n",
    "succes_q3_bruit_0 = pourcentage_succes(liste_n_bruit_0,liste_succes_bruit_0,Q3)\n",
    "succes_global = pourcentage_succes(liste_n_bruit_0,liste_succes_bruit_0,999999)\n",
    "print(Q1,Q2,Q3)\n",
    "print(succes_q1_bruit_0,succes_q2_bruit_0,succes_q3_bruit_0,succes_global)"
   ]
  },
  {
   "cell_type": "code",
   "execution_count": 34,
   "metadata": {},
   "outputs": [
    {
     "name": "stdout",
     "output_type": "stream",
     "text": [
      "50 115 233\n",
      "0.024793388429752067 0.4314516129032258 0.612859097127223 0.717\n"
     ]
    }
   ],
   "source": [
    "Q1,Q2,Q3 = trouver_quartile(liste_n_bruit_0)\n",
    "succes_q1_bruit_1 = pourcentage_succes(liste_n_bruit_1,liste_succes_bruit_1,Q1)\n",
    "succes_q2_bruit_1 = pourcentage_succes(liste_n_bruit_1,liste_succes_bruit_1,Q2)\n",
    "succes_q3_bruit_1 = pourcentage_succes(liste_n_bruit_1,liste_succes_bruit_1,Q3)\n",
    "succes_global = pourcentage_succes(liste_n_bruit_1,liste_succes_bruit_1,999999)\n",
    "print(Q1,Q2,Q3)\n",
    "print(succes_q1_bruit_1,succes_q2_bruit_1,succes_q3_bruit_1,succes_global)"
   ]
  },
  {
   "cell_type": "code",
   "execution_count": 35,
   "metadata": {},
   "outputs": [
    {
     "name": "stdout",
     "output_type": "stream",
     "text": [
      "47 128 249\n",
      "0.004016064257028112 0.11244979919678715 0.3906040268456376 0.546\n"
     ]
    }
   ],
   "source": [
    "Q1,Q2,Q3 = trouver_quartile(liste_n_bruit_2)\n",
    "succes_q1_bruit_2 = pourcentage_succes(liste_n_bruit_2,liste_succes_bruit_2,Q1)\n",
    "succes_q2_bruit_2 = pourcentage_succes(liste_n_bruit_2,liste_succes_bruit_2,Q2)\n",
    "succes_q3_bruit_2 = pourcentage_succes(liste_n_bruit_2,liste_succes_bruit_2,Q3)\n",
    "succes_global = pourcentage_succes(liste_n_bruit_2,liste_succes_bruit_2,999999)\n",
    "print(Q1,Q2,Q3)\n",
    "print(succes_q1_bruit_2,succes_q2_bruit_2,succes_q3_bruit_2,succes_global)"
   ]
  },
  {
   "cell_type": "code",
   "execution_count": 36,
   "metadata": {},
   "outputs": [
    {
     "name": "stdout",
     "output_type": "stream",
     "text": [
      "50 127 245\n",
      "0.0 0.0 0.10252996005326231 0.309\n"
     ]
    }
   ],
   "source": [
    "Q1,Q2,Q3 = trouver_quartile(liste_n_bruit_3)\n",
    "succes_q1_bruit_3 = pourcentage_succes(liste_n_bruit_3,liste_succes_bruit_3,Q1)\n",
    "succes_q2_bruit_3 = pourcentage_succes(liste_n_bruit_3,liste_succes_bruit_3,Q2)\n",
    "succes_q3_bruit_3 = pourcentage_succes(liste_n_bruit_3,liste_succes_bruit_3,Q3)\n",
    "succes_global = pourcentage_succes(liste_n_bruit_3,liste_succes_bruit_3,999999)\n",
    "print(Q1,Q2,Q3)\n",
    "print(succes_q1_bruit_3,succes_q2_bruit_3,succes_q3_bruit_3,succes_global)"
   ]
  }
 ],
 "metadata": {
  "kernelspec": {
   "display_name": "Python 3",
   "language": "python",
   "name": "python3"
  },
  "language_info": {
   "codemirror_mode": {
    "name": "ipython",
    "version": 3
   },
   "file_extension": ".py",
   "mimetype": "text/x-python",
   "name": "python",
   "nbconvert_exporter": "python",
   "pygments_lexer": "ipython3",
   "version": "3.9.5"
  }
 },
 "nbformat": 4,
 "nbformat_minor": 2
}
