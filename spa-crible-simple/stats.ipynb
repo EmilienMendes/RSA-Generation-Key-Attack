{
 "cells": [
  {
   "cell_type": "code",
   "execution_count": 41,
   "metadata": {},
   "outputs": [],
   "source": [
    "import numpy as np"
   ]
  },
  {
   "cell_type": "code",
   "execution_count": 42,
   "metadata": {},
   "outputs": [],
   "source": [
    "with open(\"stats\",'r') as fichier :\n",
    "    lignes = fichier.readlines()\n",
    "liste_s = [int(element) for element in lignes]"
   ]
  },
  {
   "cell_type": "code",
   "execution_count": 56,
   "metadata": {},
   "outputs": [
    {
     "data": {
      "text/plain": [
       "6000"
      ]
     },
     "execution_count": 56,
     "metadata": {},
     "output_type": "execute_result"
    }
   ],
   "source": [
    "nb_test = 10000\n",
    "liste_s_n_54_k_512 = liste_s[:nb_test]\n",
    "liste_s_n_60_k_512 = liste_s[nb_test:2*nb_test]\n",
    "liste_s_n_70_k_512 = liste_s[2*nb_test:3*nb_test]\n",
    "liste_s_n_100_k_1024 = liste_s[3*nb_test:4*nb_test]\n",
    "liste_s_n_110_k_1024 = liste_s[4*nb_test:5*nb_test]\n",
    "liste_s_n_120_k_1024 = liste_s[5*nb_test:]\n",
    "\n",
    "liste_s_k_512 = liste_s[:3*nb_test]\n",
    "liste_s_k_1024 = liste_s[3*nb_test:]\n",
    "\n",
    "len(liste_s)"
   ]
  },
  {
   "cell_type": "code",
   "execution_count": 44,
   "metadata": {},
   "outputs": [],
   "source": [
    "def probabilite(liste,valeur_min) :\n",
    "    nb_element = 0\n",
    "    for element in liste :\n",
    "        if(element >= valeur_min) :\n",
    "            nb_element+=1\n",
    "    return nb_element/len(liste)"
   ]
  },
  {
   "cell_type": "code",
   "execution_count": 45,
   "metadata": {},
   "outputs": [],
   "source": [
    "import pandas as pd\n",
    "import matplotlib.pyplot as plt"
   ]
  },
  {
   "cell_type": "code",
   "execution_count": 104,
   "metadata": {},
   "outputs": [],
   "source": [
    "x = [i for i in range(525)]\n",
    "y = [probabilite(liste_s_k_512,x[i]) for i in range (len(x))]"
   ]
  },
  {
   "cell_type": "code",
   "execution_count": null,
   "metadata": {},
   "outputs": [
    {
     "data": {
      "image/png": "[encoded data removed]",
      "text/plain": [
       "<Figure size 640x480 with 1 Axes>"
      ]
     },
     "metadata": {},
     "output_type": "display_data"
    },
    {
     "data": {
      "text/plain": [
       "6000"
      ]
     },
     "execution_count": 115,
     "metadata": {},
     "output_type": "execute_result"
    }
   ],
   "source": [
    "plt.title(\"Distribution cumulative pour k = 512\")\n",
    "plt.xlabel(\"x\")\n",
    "plt.ylabel(\"pr(x < log2(s))\")\n",
    "plt.plot(x,y)\n",
    "plt.show()\n"
   ]
  },
  {
   "cell_type": "code",
   "execution_count": 48,
   "metadata": {},
   "outputs": [],
   "source": [
    "import matplotlib.pyplot as plt"
   ]
  },
  {
   "cell_type": "code",
   "execution_count": 49,
   "metadata": {},
   "outputs": [],
   "source": [
    "probabilite_256_k_512 = [probabilite(liste_s_n_54_k_512,256),probabilite(liste_s_n_60_k_512,256),probabilite(liste_s_n_70_k_512,256)]\n",
    "probabilite_277_k_512 = [probabilite(liste_s_n_54_k_512,277),probabilite(liste_s_n_60_k_512,277),probabilite(liste_s_n_70_k_512,277)]"
   ]
  },
  {
   "cell_type": "code",
   "execution_count": 50,
   "metadata": {},
   "outputs": [
    {
     "data": {
      "text/html": [
       "<div>\n",
       "<style scoped>\n",
       "    .dataframe tbody tr th:only-of-type {\n",
       "        vertical-align: middle;\n",
       "    }\n",
       "\n",
       "    .dataframe tbody tr th {\n",
       "        vertical-align: top;\n",
       "    }\n",
       "\n",
       "    .dataframe thead th {\n",
       "        text-align: right;\n",
       "    }\n",
       "</style>\n",
       "<table border=\"1\" class=\"dataframe\">\n",
       "  <thead>\n",
       "    <tr style=\"text-align: right;\">\n",
       "      <th></th>\n",
       "      <th>&gt; 256</th>\n",
       "      <th>&gt;277</th>\n",
       "      <th>log2(prod(r&lt;rn)r)</th>\n",
       "    </tr>\n",
       "    <tr>\n",
       "      <th>N</th>\n",
       "      <th></th>\n",
       "      <th></th>\n",
       "      <th></th>\n",
       "    </tr>\n",
       "  </thead>\n",
       "  <tbody>\n",
       "    <tr>\n",
       "      <th>54</th>\n",
       "      <td>0.124</td>\n",
       "      <td>0.055</td>\n",
       "      <td>334.8</td>\n",
       "    </tr>\n",
       "    <tr>\n",
       "      <th>60</th>\n",
       "      <td>0.207</td>\n",
       "      <td>0.136</td>\n",
       "      <td>388.3</td>\n",
       "    </tr>\n",
       "    <tr>\n",
       "      <th>70</th>\n",
       "      <td>0.285</td>\n",
       "      <td>0.210</td>\n",
       "      <td>466.5</td>\n",
       "    </tr>\n",
       "  </tbody>\n",
       "</table>\n",
       "</div>"
      ],
      "text/plain": [
       "    > 256   >277 log2(prod(r<rn)r)\n",
       "N                                 \n",
       "54  0.124  0.055             334.8\n",
       "60  0.207  0.136             388.3\n",
       "70  0.285  0.210             466.5"
      ]
     },
     "execution_count": 50,
     "metadata": {},
     "output_type": "execute_result"
    }
   ],
   "source": [
    "tableau_k_512 = pd.DataFrame({\n",
    "    '> 256': probabilite_256_k_512,\n",
    "    '> 277': probabilite_277_k_512,\n",
    "    'log2(prod(r<rn)r)': [\"334.8\",\"388.3\",\"466.5\"]\n",
    "},index=[\"54\",\"60\",\"70\"]).round(3)\n",
    "tableau_k_512.index.name = \"N\"\n",
    "tableau_k_512"
   ]
  },
  {
   "cell_type": "code",
   "execution_count": 54,
   "metadata": {},
   "outputs": [],
   "source": [
    "probabilite_512_k_1024 = [probabilite(liste_s_n_100_k_1024,512),probabilite(liste_s_n_110_k_1024,512),probabilite(liste_s_n_120_k_1024,512)]\n",
    "probabilite_553_k_1024 = [probabilite(liste_s_n_100_k_1024,553),probabilite(liste_s_n_110_k_1024,553),probabilite(liste_s_n_120_k_1024,553)]"
   ]
  },
  {
   "cell_type": "code",
   "execution_count": 55,
   "metadata": {},
   "outputs": [
    {
     "data": {
      "text/html": [
       "<div>\n",
       "<style scoped>\n",
       "    .dataframe tbody tr th:only-of-type {\n",
       "        vertical-align: middle;\n",
       "    }\n",
       "\n",
       "    .dataframe tbody tr th {\n",
       "        vertical-align: top;\n",
       "    }\n",
       "\n",
       "    .dataframe thead th {\n",
       "        text-align: right;\n",
       "    }\n",
       "</style>\n",
       "<table border=\"1\" class=\"dataframe\">\n",
       "  <thead>\n",
       "    <tr style=\"text-align: right;\">\n",
       "      <th></th>\n",
       "      <th>&gt; 512</th>\n",
       "      <th>&gt; 553</th>\n",
       "      <th>log2(prod(r&lt;rn)r)</th>\n",
       "    </tr>\n",
       "    <tr>\n",
       "      <th>N</th>\n",
       "      <th></th>\n",
       "      <th></th>\n",
       "      <th></th>\n",
       "    </tr>\n",
       "  </thead>\n",
       "  <tbody>\n",
       "    <tr>\n",
       "      <th>100</th>\n",
       "      <td>0.126</td>\n",
       "      <td>0.062</td>\n",
       "      <td>729.7</td>\n",
       "    </tr>\n",
       "    <tr>\n",
       "      <th>110</th>\n",
       "      <td>0.173</td>\n",
       "      <td>0.097</td>\n",
       "      <td>821.2</td>\n",
       "    </tr>\n",
       "    <tr>\n",
       "      <th>120</th>\n",
       "      <td>0.224</td>\n",
       "      <td>0.153</td>\n",
       "      <td>914.5</td>\n",
       "    </tr>\n",
       "  </tbody>\n",
       "</table>\n",
       "</div>"
      ],
      "text/plain": [
       "     > 512  > 553 log2(prod(r<rn)r)\n",
       "N                                  \n",
       "100  0.126  0.062             729.7\n",
       "110  0.173  0.097             821.2\n",
       "120  0.224  0.153             914.5"
      ]
     },
     "execution_count": 55,
     "metadata": {},
     "output_type": "execute_result"
    }
   ],
   "source": [
    "tableau_k_1024 = pd.DataFrame({\n",
    "    '> 512': probabilite_512_k_1024,\n",
    "    '> 553': probabilite_553_k_1024,\n",
    "    'log2(prod(r<rn)r)': [\"729.7\",\"821.2\",\"914.5\"]\n",
    "},index=[\"100\",\"110\",\"120\"]).round(3)\n",
    "tableau_k_1024.index.name = \"N\"\n",
    "tableau_k_1024"
   ]
  }
 ],
 "metadata": {
  "kernelspec": {
   "display_name": "Python 3",
   "language": "python",
   "name": "python3"
  },
  "language_info": {
   "codemirror_mode": {
    "name": "ipython",
    "version": 3
   },
   "file_extension": ".py",
   "mimetype": "text/x-python",
   "name": "python",
   "nbconvert_exporter": "python",
   "pygments_lexer": "ipython3",
   "version": "3.10.12"
  }
 },
 "nbformat": 4,
 "nbformat_minor": 2
}
